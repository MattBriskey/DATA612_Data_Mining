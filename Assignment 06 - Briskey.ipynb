{
 "cells": [
  {
   "cell_type": "markdown",
   "id": "a967911b",
   "metadata": {},
   "source": [
    "# Assignment 06\n",
    "## Name: Matt Briskey"
   ]
  },
  {
   "cell_type": "code",
   "execution_count": 6,
   "id": "0ddc6fcd",
   "metadata": {},
   "outputs": [
    {
     "data": {
      "text/html": [
       "<div>\n",
       "<style scoped>\n",
       "    .dataframe tbody tr th:only-of-type {\n",
       "        vertical-align: middle;\n",
       "    }\n",
       "\n",
       "    .dataframe tbody tr th {\n",
       "        vertical-align: top;\n",
       "    }\n",
       "\n",
       "    .dataframe thead th {\n",
       "        text-align: right;\n",
       "    }\n",
       "</style>\n",
       "<table border=\"1\" class=\"dataframe\">\n",
       "  <thead>\n",
       "    <tr style=\"text-align: right;\">\n",
       "      <th></th>\n",
       "      <th>UID</th>\n",
       "      <th>Company</th>\n",
       "      <th>Location</th>\n",
       "      <th>Date</th>\n",
       "      <th>Time</th>\n",
       "      <th>Rocket</th>\n",
       "      <th>Mission</th>\n",
       "      <th>RocketStatus</th>\n",
       "      <th>Price</th>\n",
       "      <th>MissionStatus</th>\n",
       "    </tr>\n",
       "  </thead>\n",
       "  <tbody>\n",
       "    <tr>\n",
       "      <th>0</th>\n",
       "      <td>1</td>\n",
       "      <td>RVSN USSR</td>\n",
       "      <td>Site 1/5, Baikonur Cosmodrome, Kazakhstan</td>\n",
       "      <td>10/4/1957</td>\n",
       "      <td>19:28:00</td>\n",
       "      <td>Sputnik 8K71PS</td>\n",
       "      <td>Sputnik-1</td>\n",
       "      <td>Retired</td>\n",
       "      <td>NaN</td>\n",
       "      <td>Success</td>\n",
       "    </tr>\n",
       "    <tr>\n",
       "      <th>1</th>\n",
       "      <td>2</td>\n",
       "      <td>RVSN USSR</td>\n",
       "      <td>Site 1/5, Baikonur Cosmodrome, Kazakhstan</td>\n",
       "      <td>11/3/1957</td>\n",
       "      <td>2:30:00</td>\n",
       "      <td>Sputnik 8K71PS</td>\n",
       "      <td>Sputnik-2</td>\n",
       "      <td>Retired</td>\n",
       "      <td>NaN</td>\n",
       "      <td>Success</td>\n",
       "    </tr>\n",
       "    <tr>\n",
       "      <th>2</th>\n",
       "      <td>3</td>\n",
       "      <td>US Navy</td>\n",
       "      <td>LC-18A, Cape Canaveral AFS, Florida, USA</td>\n",
       "      <td>12/6/1957</td>\n",
       "      <td>16:44:00</td>\n",
       "      <td>Vanguard</td>\n",
       "      <td>Vanguard TV3</td>\n",
       "      <td>Retired</td>\n",
       "      <td>NaN</td>\n",
       "      <td>Failure</td>\n",
       "    </tr>\n",
       "    <tr>\n",
       "      <th>3</th>\n",
       "      <td>4</td>\n",
       "      <td>AMBA</td>\n",
       "      <td>LC-26A, Cape Canaveral AFS, Florida, USA</td>\n",
       "      <td>2/1/1958</td>\n",
       "      <td>3:48:00</td>\n",
       "      <td>Juno I</td>\n",
       "      <td>Explorer 1</td>\n",
       "      <td>Retired</td>\n",
       "      <td>NaN</td>\n",
       "      <td>Success</td>\n",
       "    </tr>\n",
       "    <tr>\n",
       "      <th>4</th>\n",
       "      <td>5</td>\n",
       "      <td>US Navy</td>\n",
       "      <td>LC-18A, Cape Canaveral AFS, Florida, USA</td>\n",
       "      <td>2/5/1958</td>\n",
       "      <td>7:33:00</td>\n",
       "      <td>Vanguard</td>\n",
       "      <td>Vanguard TV3BU</td>\n",
       "      <td>Retired</td>\n",
       "      <td>NaN</td>\n",
       "      <td>Failure</td>\n",
       "    </tr>\n",
       "    <tr>\n",
       "      <th>5</th>\n",
       "      <td>6</td>\n",
       "      <td>AMBA</td>\n",
       "      <td>LC-26A, Cape Canaveral AFS, Florida, USA</td>\n",
       "      <td>3/5/1958</td>\n",
       "      <td>18:27:00</td>\n",
       "      <td>Juno I</td>\n",
       "      <td>Explorer 2</td>\n",
       "      <td>Retired</td>\n",
       "      <td>NaN</td>\n",
       "      <td>Failure</td>\n",
       "    </tr>\n",
       "    <tr>\n",
       "      <th>6</th>\n",
       "      <td>7</td>\n",
       "      <td>US Navy</td>\n",
       "      <td>LC-18A, Cape Canaveral AFS, Florida, USA</td>\n",
       "      <td>3/17/1958</td>\n",
       "      <td>12:15:00</td>\n",
       "      <td>Vanguard</td>\n",
       "      <td>Vanguard 1</td>\n",
       "      <td>Retired</td>\n",
       "      <td>NaN</td>\n",
       "      <td>Success</td>\n",
       "    </tr>\n",
       "    <tr>\n",
       "      <th>7</th>\n",
       "      <td>8</td>\n",
       "      <td>AMBA</td>\n",
       "      <td>LC-5, Cape Canaveral AFS, Florida, USA</td>\n",
       "      <td>3/26/1958</td>\n",
       "      <td>17:38:00</td>\n",
       "      <td>Juno I</td>\n",
       "      <td>Explorer 3</td>\n",
       "      <td>Retired</td>\n",
       "      <td>NaN</td>\n",
       "      <td>Success</td>\n",
       "    </tr>\n",
       "    <tr>\n",
       "      <th>8</th>\n",
       "      <td>9</td>\n",
       "      <td>RVSN USSR</td>\n",
       "      <td>Site 1/5, Baikonur Cosmodrome, Kazakhstan</td>\n",
       "      <td>4/27/1958</td>\n",
       "      <td>9:01:00</td>\n",
       "      <td>Sputnik 8A91</td>\n",
       "      <td>Sputnik-3 #1</td>\n",
       "      <td>Retired</td>\n",
       "      <td>NaN</td>\n",
       "      <td>Failure</td>\n",
       "    </tr>\n",
       "    <tr>\n",
       "      <th>9</th>\n",
       "      <td>10</td>\n",
       "      <td>US Navy</td>\n",
       "      <td>LC-18A, Cape Canaveral AFS, Florida, USA</td>\n",
       "      <td>4/28/1958</td>\n",
       "      <td>2:53:00</td>\n",
       "      <td>Vanguard</td>\n",
       "      <td>Vanguard TV5</td>\n",
       "      <td>Retired</td>\n",
       "      <td>NaN</td>\n",
       "      <td>Failure</td>\n",
       "    </tr>\n",
       "  </tbody>\n",
       "</table>\n",
       "</div>"
      ],
      "text/plain": [
       "   UID    Company                                   Location       Date  \\\n",
       "0    1  RVSN USSR  Site 1/5, Baikonur Cosmodrome, Kazakhstan  10/4/1957   \n",
       "1    2  RVSN USSR  Site 1/5, Baikonur Cosmodrome, Kazakhstan  11/3/1957   \n",
       "2    3    US Navy   LC-18A, Cape Canaveral AFS, Florida, USA  12/6/1957   \n",
       "3    4       AMBA   LC-26A, Cape Canaveral AFS, Florida, USA   2/1/1958   \n",
       "4    5    US Navy   LC-18A, Cape Canaveral AFS, Florida, USA   2/5/1958   \n",
       "5    6       AMBA   LC-26A, Cape Canaveral AFS, Florida, USA   3/5/1958   \n",
       "6    7    US Navy   LC-18A, Cape Canaveral AFS, Florida, USA  3/17/1958   \n",
       "7    8       AMBA     LC-5, Cape Canaveral AFS, Florida, USA  3/26/1958   \n",
       "8    9  RVSN USSR  Site 1/5, Baikonur Cosmodrome, Kazakhstan  4/27/1958   \n",
       "9   10    US Navy   LC-18A, Cape Canaveral AFS, Florida, USA  4/28/1958   \n",
       "\n",
       "       Time          Rocket         Mission RocketStatus Price MissionStatus  \n",
       "0  19:28:00  Sputnik 8K71PS       Sputnik-1      Retired   NaN       Success  \n",
       "1   2:30:00  Sputnik 8K71PS       Sputnik-2      Retired   NaN       Success  \n",
       "2  16:44:00        Vanguard    Vanguard TV3      Retired   NaN       Failure  \n",
       "3   3:48:00          Juno I      Explorer 1      Retired   NaN       Success  \n",
       "4   7:33:00        Vanguard  Vanguard TV3BU      Retired   NaN       Failure  \n",
       "5  18:27:00          Juno I      Explorer 2      Retired   NaN       Failure  \n",
       "6  12:15:00        Vanguard      Vanguard 1      Retired   NaN       Success  \n",
       "7  17:38:00          Juno I      Explorer 3      Retired   NaN       Success  \n",
       "8   9:01:00    Sputnik 8A91    Sputnik-3 #1      Retired   NaN       Failure  \n",
       "9   2:53:00        Vanguard    Vanguard TV5      Retired   NaN       Failure  "
      ]
     },
     "execution_count": 6,
     "metadata": {},
     "output_type": "execute_result"
    }
   ],
   "source": [
    "# load the data\n",
    "import pandas as pd\n",
    "import numpy as np\n",
    "\n",
    "#Load data into the data frame\n",
    "df = pd.read_csv('https://raw.githubusercontent.com/MattBriskey/data612_data_mining/main/space_missions.csv', low_memory=False, encoding=\"ISO-8859-1\")\n",
    "df.head(10) #Shows the first 10 rows"
   ]
  },
  {
   "cell_type": "code",
   "execution_count": 7,
   "id": "a24f4f1f",
   "metadata": {},
   "outputs": [
    {
     "name": "stdout",
     "output_type": "stream",
     "text": [
      "UID               int64\n",
      "Company          object\n",
      "Location         object\n",
      "Date             object\n",
      "Time             object\n",
      "Rocket           object\n",
      "Mission          object\n",
      "RocketStatus     object\n",
      "Price            object\n",
      "MissionStatus    object\n",
      "dtype: object\n"
     ]
    }
   ],
   "source": [
    "#Check the data types of each column\n",
    "print(df.dtypes)"
   ]
  },
  {
   "cell_type": "code",
   "execution_count": 9,
   "id": "1256b7d1",
   "metadata": {},
   "outputs": [],
   "source": [
    "# Convert UID to string\n",
    "df['UID'] = df['UID'].astype(str)"
   ]
  },
  {
   "cell_type": "code",
   "execution_count": 10,
   "id": "99fe336a",
   "metadata": {},
   "outputs": [
    {
     "name": "stdout",
     "output_type": "stream",
     "text": [
      "UID              object\n",
      "Company          object\n",
      "Location         object\n",
      "Date             object\n",
      "Time             object\n",
      "Rocket           object\n",
      "Mission          object\n",
      "RocketStatus     object\n",
      "Price            object\n",
      "MissionStatus    object\n",
      "dtype: object\n"
     ]
    }
   ],
   "source": [
    "#Check the data type of UID after converting it to a String\n",
    "print(df.dtypes)"
   ]
  },
  {
   "cell_type": "code",
   "execution_count": 13,
   "id": "23318834",
   "metadata": {},
   "outputs": [],
   "source": [
    "# Convert MissionStatus to string\n",
    "df['MissionStatus'] = df['MissionStatus'].astype('category')"
   ]
  },
  {
   "cell_type": "code",
   "execution_count": 14,
   "id": "c4e5c967",
   "metadata": {},
   "outputs": [
    {
     "name": "stdout",
     "output_type": "stream",
     "text": [
      "UID                object\n",
      "Company            object\n",
      "Location           object\n",
      "Date               object\n",
      "Time               object\n",
      "Rocket             object\n",
      "Mission            object\n",
      "RocketStatus       object\n",
      "Price              object\n",
      "MissionStatus    category\n",
      "dtype: object\n"
     ]
    }
   ],
   "source": [
    "#Check the data type of MissionStatus after converting it to a Category\n",
    "print(df.dtypes)"
   ]
  },
  {
   "cell_type": "code",
   "execution_count": 19,
   "id": "4c2a280b",
   "metadata": {},
   "outputs": [
    {
     "name": "stdout",
     "output_type": "stream",
     "text": [
      "Index(['Failure', 'Partial Failure', 'Prelaunch Failure', 'Success'], dtype='object')\n"
     ]
    }
   ],
   "source": [
    "# Show the possible values for the MissionStatus column\n",
    "print(df[\"MissionStatus\"].cat.categories)"
   ]
  }
 ],
 "metadata": {
  "kernelspec": {
   "display_name": "Python 3 (ipykernel)",
   "language": "python",
   "name": "python3"
  },
  "language_info": {
   "codemirror_mode": {
    "name": "ipython",
    "version": 3
   },
   "file_extension": ".py",
   "mimetype": "text/x-python",
   "name": "python",
   "nbconvert_exporter": "python",
   "pygments_lexer": "ipython3",
   "version": "3.9.13"
  }
 },
 "nbformat": 4,
 "nbformat_minor": 5
}
