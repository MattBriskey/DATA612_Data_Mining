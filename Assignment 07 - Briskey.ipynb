{
 "cells": [
  {
   "cell_type": "markdown",
   "id": "f0e5ca5d",
   "metadata": {},
   "source": [
    "# Cleaning data with Regex and .apply() method\n",
    "## Assignment 07\n",
    "### Name: Matt Briskey"
   ]
  },
  {
   "cell_type": "markdown",
   "id": "4d603464",
   "metadata": {},
   "source": [
    "### Data Cleaning with RegEx"
   ]
  },
  {
   "cell_type": "code",
   "execution_count": 1,
   "id": "d34d5493",
   "metadata": {},
   "outputs": [
    {
     "data": {
      "text/html": [
       "<div>\n",
       "<style scoped>\n",
       "    .dataframe tbody tr th:only-of-type {\n",
       "        vertical-align: middle;\n",
       "    }\n",
       "\n",
       "    .dataframe tbody tr th {\n",
       "        vertical-align: top;\n",
       "    }\n",
       "\n",
       "    .dataframe thead th {\n",
       "        text-align: right;\n",
       "    }\n",
       "</style>\n",
       "<table border=\"1\" class=\"dataframe\">\n",
       "  <thead>\n",
       "    <tr style=\"text-align: right;\">\n",
       "      <th></th>\n",
       "      <th>Address</th>\n",
       "    </tr>\n",
       "  </thead>\n",
       "  <tbody>\n",
       "    <tr>\n",
       "      <th>0</th>\n",
       "      <td>250 Rt 59\\nAirmont, NY 10901</td>\n",
       "    </tr>\n",
       "    <tr>\n",
       "      <th>1</th>\n",
       "      <td>141 Washington Ave Extension\\nAlbany, NY 12205</td>\n",
       "    </tr>\n",
       "    <tr>\n",
       "      <th>2</th>\n",
       "      <td>13858 Rt 31 W\\nAlbion, NY 14411</td>\n",
       "    </tr>\n",
       "    <tr>\n",
       "      <th>3</th>\n",
       "      <td>2055 Niagara Falls Blvd\\nAmherst, NY 14228</td>\n",
       "    </tr>\n",
       "    <tr>\n",
       "      <th>4</th>\n",
       "      <td>101 Sanford Farm Shpg Center\\nAmsterdam, NY 12010</td>\n",
       "    </tr>\n",
       "    <tr>\n",
       "      <th>5</th>\n",
       "      <td>297 Grant Avenue\\nAuburn, NY 13021</td>\n",
       "    </tr>\n",
       "    <tr>\n",
       "      <th>6</th>\n",
       "      <td>4133 Veterans Memorial Drive\\nBatavia, NY 14020</td>\n",
       "    </tr>\n",
       "    <tr>\n",
       "      <th>7</th>\n",
       "      <td>6265 Brockport Spencerport Rd\\nBrockport, NY 1...</td>\n",
       "    </tr>\n",
       "    <tr>\n",
       "      <th>8</th>\n",
       "      <td>5399 W Genesse St\\nCamillus, NY 13031</td>\n",
       "    </tr>\n",
       "    <tr>\n",
       "      <th>9</th>\n",
       "      <td>3191 County rd 10\\nCanandaigua, NY 14424</td>\n",
       "    </tr>\n",
       "  </tbody>\n",
       "</table>\n",
       "</div>"
      ],
      "text/plain": [
       "                                             Address\n",
       "0                       250 Rt 59\\nAirmont, NY 10901\n",
       "1     141 Washington Ave Extension\\nAlbany, NY 12205\n",
       "2                    13858 Rt 31 W\\nAlbion, NY 14411\n",
       "3         2055 Niagara Falls Blvd\\nAmherst, NY 14228\n",
       "4  101 Sanford Farm Shpg Center\\nAmsterdam, NY 12010\n",
       "5                 297 Grant Avenue\\nAuburn, NY 13021\n",
       "6    4133 Veterans Memorial Drive\\nBatavia, NY 14020\n",
       "7  6265 Brockport Spencerport Rd\\nBrockport, NY 1...\n",
       "8              5399 W Genesse St\\nCamillus, NY 13031\n",
       "9           3191 County rd 10\\nCanandaigua, NY 14424"
      ]
     },
     "execution_count": 1,
     "metadata": {},
     "output_type": "execute_result"
    }
   ],
   "source": [
    "# load the data\n",
    "import pandas as pd\n",
    "import numpy as np\n",
    "\n",
    "#Load data into the Address data frame\n",
    "df = pd.read_csv('https://raw.githubusercontent.com/MattBriskey/data612_data_mining/main/addresses.csv', low_memory=False, encoding=\"ISO-8859-1\")\n",
    "df.head(10) #Shows the first 10 rows"
   ]
  },
  {
   "cell_type": "code",
   "execution_count": 2,
   "id": "8cab5642",
   "metadata": {},
   "outputs": [
    {
     "data": {
      "text/plain": [
       "Address    object\n",
       "dtype: object"
      ]
     },
     "execution_count": 2,
     "metadata": {},
     "output_type": "execute_result"
    }
   ],
   "source": [
    "df.dtypes #Check the type of the data"
   ]
  },
  {
   "cell_type": "code",
   "execution_count": 3,
   "id": "8a5c6ccf",
   "metadata": {},
   "outputs": [
    {
     "data": {
      "text/plain": [
       "(192, 1)"
      ]
     },
     "execution_count": 3,
     "metadata": {},
     "output_type": "execute_result"
    }
   ],
   "source": [
    "df.shape #Check the shape of the data"
   ]
  },
  {
   "cell_type": "code",
   "execution_count": 4,
   "id": "b1bf2e70",
   "metadata": {},
   "outputs": [
    {
     "data": {
      "text/html": [
       "<div>\n",
       "<style scoped>\n",
       "    .dataframe tbody tr th:only-of-type {\n",
       "        vertical-align: middle;\n",
       "    }\n",
       "\n",
       "    .dataframe tbody tr th {\n",
       "        vertical-align: top;\n",
       "    }\n",
       "\n",
       "    .dataframe thead th {\n",
       "        text-align: right;\n",
       "    }\n",
       "</style>\n",
       "<table border=\"1\" class=\"dataframe\">\n",
       "  <thead>\n",
       "    <tr style=\"text-align: right;\">\n",
       "      <th></th>\n",
       "      <th>Address</th>\n",
       "      <th>Street</th>\n",
       "      <th>City</th>\n",
       "      <th>State</th>\n",
       "      <th>Zip</th>\n",
       "    </tr>\n",
       "  </thead>\n",
       "  <tbody>\n",
       "    <tr>\n",
       "      <th>0</th>\n",
       "      <td>250 Rt 59\\nAirmont, NY 10901</td>\n",
       "      <td>250 Rt 59</td>\n",
       "      <td>Airmont</td>\n",
       "      <td>NY</td>\n",
       "      <td>10901</td>\n",
       "    </tr>\n",
       "    <tr>\n",
       "      <th>1</th>\n",
       "      <td>141 Washington Ave Extension\\nAlbany, NY 12205</td>\n",
       "      <td>141 Washington Ave Extension</td>\n",
       "      <td>Albany</td>\n",
       "      <td>NY</td>\n",
       "      <td>12205</td>\n",
       "    </tr>\n",
       "    <tr>\n",
       "      <th>2</th>\n",
       "      <td>13858 Rt 31 W\\nAlbion, NY 14411</td>\n",
       "      <td>13858 Rt 31 W</td>\n",
       "      <td>Albion</td>\n",
       "      <td>NY</td>\n",
       "      <td>14411</td>\n",
       "    </tr>\n",
       "    <tr>\n",
       "      <th>3</th>\n",
       "      <td>2055 Niagara Falls Blvd\\nAmherst, NY 14228</td>\n",
       "      <td>2055 Niagara Falls Blvd</td>\n",
       "      <td>Amherst</td>\n",
       "      <td>NY</td>\n",
       "      <td>14228</td>\n",
       "    </tr>\n",
       "    <tr>\n",
       "      <th>4</th>\n",
       "      <td>101 Sanford Farm Shpg Center\\nAmsterdam, NY 12010</td>\n",
       "      <td>101 Sanford Farm Shpg Center</td>\n",
       "      <td>Amsterdam</td>\n",
       "      <td>NY</td>\n",
       "      <td>12010</td>\n",
       "    </tr>\n",
       "  </tbody>\n",
       "</table>\n",
       "</div>"
      ],
      "text/plain": [
       "                                             Address  \\\n",
       "0                       250 Rt 59\\nAirmont, NY 10901   \n",
       "1     141 Washington Ave Extension\\nAlbany, NY 12205   \n",
       "2                    13858 Rt 31 W\\nAlbion, NY 14411   \n",
       "3         2055 Niagara Falls Blvd\\nAmherst, NY 14228   \n",
       "4  101 Sanford Farm Shpg Center\\nAmsterdam, NY 12010   \n",
       "\n",
       "                         Street       City State    Zip  \n",
       "0                     250 Rt 59    Airmont    NY  10901  \n",
       "1  141 Washington Ave Extension     Albany    NY  12205  \n",
       "2                 13858 Rt 31 W     Albion    NY  14411  \n",
       "3       2055 Niagara Falls Blvd    Amherst    NY  14228  \n",
       "4  101 Sanford Farm Shpg Center  Amsterdam    NY  12010  "
      ]
     },
     "execution_count": 4,
     "metadata": {},
     "output_type": "execute_result"
    }
   ],
   "source": [
    "# The above data is all in one cell.  It would be optimal to have the different address parts in separate cells.\n",
    "# We can use Regex to clean the data and achieve this\n",
    "# Used https://regex101.com/ and saved the below grouping here: https://regex101.com/r/xy9sG4/1\n",
    "\n",
    "\n",
    "df['Street'] = df['Address'].str.extract('([\\w ]+)', expand=True) #Extract the street from address\n",
    "df['City'] = df['Address'].str.extract('\\n([\\w ]+)', expand=True)  #Extract the city from address\n",
    "df['State'] = df['Address'].str.extract(', ([a-zA-Z]{2})', expand=True) #Extract the state from address\n",
    "df['Zip'] = df['Address'].str.extract('(\\d{5})?$', expand=True) #Extract the zip from address\n",
    "\n",
    "df.head(5) #Show the first 5 rows"
   ]
  },
  {
   "cell_type": "markdown",
   "id": "cd5301a9",
   "metadata": {},
   "source": [
    "### .apply() method"
   ]
  },
  {
   "cell_type": "code",
   "execution_count": 5,
   "id": "4f5c892c",
   "metadata": {},
   "outputs": [
    {
     "data": {
      "text/html": [
       "<div>\n",
       "<style scoped>\n",
       "    .dataframe tbody tr th:only-of-type {\n",
       "        vertical-align: middle;\n",
       "    }\n",
       "\n",
       "    .dataframe tbody tr th {\n",
       "        vertical-align: top;\n",
       "    }\n",
       "\n",
       "    .dataframe thead th {\n",
       "        text-align: right;\n",
       "    }\n",
       "</style>\n",
       "<table border=\"1\" class=\"dataframe\">\n",
       "  <thead>\n",
       "    <tr style=\"text-align: right;\">\n",
       "      <th></th>\n",
       "      <th>id</th>\n",
       "      <th>title</th>\n",
       "      <th>url</th>\n",
       "      <th>rating</th>\n",
       "      <th>num_reviews</th>\n",
       "      <th>num_published_lectures</th>\n",
       "      <th>duration</th>\n",
       "    </tr>\n",
       "  </thead>\n",
       "  <tbody>\n",
       "    <tr>\n",
       "      <th>0</th>\n",
       "      <td>567828</td>\n",
       "      <td>The Complete Python Bootcamp From Zero to Hero...</td>\n",
       "      <td>/course/complete-python-bootcamp/</td>\n",
       "      <td>4.59</td>\n",
       "      <td>452973</td>\n",
       "      <td>155</td>\n",
       "      <td>22.0</td>\n",
       "    </tr>\n",
       "    <tr>\n",
       "      <th>1</th>\n",
       "      <td>1565838</td>\n",
       "      <td>The Complete 2023 Web Development Bootcamp</td>\n",
       "      <td>/course/the-complete-web-development-bootcamp/</td>\n",
       "      <td>4.67</td>\n",
       "      <td>263152</td>\n",
       "      <td>490</td>\n",
       "      <td>65.5</td>\n",
       "    </tr>\n",
       "    <tr>\n",
       "      <th>2</th>\n",
       "      <td>625204</td>\n",
       "      <td>The Web Developer Bootcamp 2023</td>\n",
       "      <td>/course/the-web-developer-bootcamp/</td>\n",
       "      <td>4.70</td>\n",
       "      <td>254711</td>\n",
       "      <td>616</td>\n",
       "      <td>64.0</td>\n",
       "    </tr>\n",
       "    <tr>\n",
       "      <th>3</th>\n",
       "      <td>756150</td>\n",
       "      <td>Angular - The Complete Guide (2023 Edition)</td>\n",
       "      <td>/course/the-complete-guide-to-angular-2/</td>\n",
       "      <td>4.59</td>\n",
       "      <td>180257</td>\n",
       "      <td>472</td>\n",
       "      <td>34.5</td>\n",
       "    </tr>\n",
       "    <tr>\n",
       "      <th>4</th>\n",
       "      <td>2776760</td>\n",
       "      <td>100 Days of Code: The Complete Python Pro Boot...</td>\n",
       "      <td>/course/100-days-of-code/</td>\n",
       "      <td>4.70</td>\n",
       "      <td>177568</td>\n",
       "      <td>676</td>\n",
       "      <td>64.0</td>\n",
       "    </tr>\n",
       "    <tr>\n",
       "      <th>5</th>\n",
       "      <td>533682</td>\n",
       "      <td>Java Programming Masterclass updated to Java 17</td>\n",
       "      <td>/course/java-the-complete-java-developer-course/</td>\n",
       "      <td>4.55</td>\n",
       "      <td>177184</td>\n",
       "      <td>544</td>\n",
       "      <td>103.5</td>\n",
       "    </tr>\n",
       "    <tr>\n",
       "      <th>6</th>\n",
       "      <td>1362070</td>\n",
       "      <td>React - The Complete Guide (incl Hooks, React ...</td>\n",
       "      <td>/course/react-the-complete-guide-incl-redux/</td>\n",
       "      <td>4.61</td>\n",
       "      <td>176452</td>\n",
       "      <td>512</td>\n",
       "      <td>48.5</td>\n",
       "    </tr>\n",
       "    <tr>\n",
       "      <th>7</th>\n",
       "      <td>851712</td>\n",
       "      <td>The Complete JavaScript Course 2023: From Zero...</td>\n",
       "      <td>/course/the-complete-javascript-course/</td>\n",
       "      <td>4.73</td>\n",
       "      <td>167670</td>\n",
       "      <td>320</td>\n",
       "      <td>69.0</td>\n",
       "    </tr>\n",
       "    <tr>\n",
       "      <th>8</th>\n",
       "      <td>950390</td>\n",
       "      <td>Machine Learning A-Zâ¢: Python &amp; R in Data Sc...</td>\n",
       "      <td>/course/machinelearning/</td>\n",
       "      <td>4.53</td>\n",
       "      <td>166138</td>\n",
       "      <td>382</td>\n",
       "      <td>42.5</td>\n",
       "    </tr>\n",
       "    <tr>\n",
       "      <th>9</th>\n",
       "      <td>903744</td>\n",
       "      <td>Python for Data Science and Machine Learning B...</td>\n",
       "      <td>/course/python-for-data-science-and-machine-le...</td>\n",
       "      <td>4.62</td>\n",
       "      <td>126984</td>\n",
       "      <td>165</td>\n",
       "      <td>25.0</td>\n",
       "    </tr>\n",
       "  </tbody>\n",
       "</table>\n",
       "</div>"
      ],
      "text/plain": [
       "        id                                              title  \\\n",
       "0   567828  The Complete Python Bootcamp From Zero to Hero...   \n",
       "1  1565838         The Complete 2023 Web Development Bootcamp   \n",
       "2   625204                    The Web Developer Bootcamp 2023   \n",
       "3   756150        Angular - The Complete Guide (2023 Edition)   \n",
       "4  2776760  100 Days of Code: The Complete Python Pro Boot...   \n",
       "5   533682    Java Programming Masterclass updated to Java 17   \n",
       "6  1362070  React - The Complete Guide (incl Hooks, React ...   \n",
       "7   851712  The Complete JavaScript Course 2023: From Zero...   \n",
       "8   950390  Machine Learning A-Zâ¢: Python & R in Data Sc...   \n",
       "9   903744  Python for Data Science and Machine Learning B...   \n",
       "\n",
       "                                                 url   rating   num_reviews  \\\n",
       "0                  /course/complete-python-bootcamp/      4.59       452973   \n",
       "1     /course/the-complete-web-development-bootcamp/      4.67       263152   \n",
       "2                /course/the-web-developer-bootcamp/      4.70       254711   \n",
       "3           /course/the-complete-guide-to-angular-2/      4.59       180257   \n",
       "4                          /course/100-days-of-code/      4.70       177568   \n",
       "5   /course/java-the-complete-java-developer-course/      4.55       177184   \n",
       "6       /course/react-the-complete-guide-incl-redux/      4.61       176452   \n",
       "7            /course/the-complete-javascript-course/      4.73       167670   \n",
       "8                           /course/machinelearning/      4.53       166138   \n",
       "9  /course/python-for-data-science-and-machine-le...      4.62       126984   \n",
       "\n",
       "   num_published_lectures  duration  \n",
       "0                     155      22.0  \n",
       "1                     490      65.5  \n",
       "2                     616      64.0  \n",
       "3                     472      34.5  \n",
       "4                     676      64.0  \n",
       "5                     544     103.5  \n",
       "6                     512      48.5  \n",
       "7                     320      69.0  \n",
       "8                     382      42.5  \n",
       "9                     165      25.0  "
      ]
     },
     "execution_count": 5,
     "metadata": {},
     "output_type": "execute_result"
    }
   ],
   "source": [
    "import pandas as pd\n",
    "\n",
    "#Load Udemy Courses Data into the data frame\n",
    "df2 = pd.read_csv('https://raw.githubusercontent.com/MattBriskey/data612_data_mining/main/Udemy%20Courses%20Data%202023%20-%20Sample.csv', low_memory=False, encoding=\"ISO-8859-1\")\n",
    "df2.head(10) #Shows the first 10 rows"
   ]
  },
  {
   "cell_type": "code",
   "execution_count": 6,
   "id": "d71a58ce",
   "metadata": {},
   "outputs": [
    {
     "name": "stdout",
     "output_type": "stream",
     "text": [
      "id\n",
      "title\n",
      "url\n",
      " rating \n",
      "num_reviews\n",
      "num_published_lectures\n",
      "duration\n"
     ]
    }
   ],
   "source": [
    "for col in df2.columns: #print the names of the columns\n",
    "    print(col)"
   ]
  },
  {
   "cell_type": "code",
   "execution_count": 7,
   "id": "c005d3b5",
   "metadata": {},
   "outputs": [],
   "source": [
    "df2.rename(columns = {' rating ':'rating'}, inplace = True) #rename rating column so that it doesn't have leading or trailing spaces"
   ]
  },
  {
   "cell_type": "code",
   "execution_count": 8,
   "id": "651e4ed0",
   "metadata": {},
   "outputs": [
    {
     "name": "stdout",
     "output_type": "stream",
     "text": [
      "Mean:  4.63\n",
      "Sum:  129.76\n",
      "Mode:  ModeResult(mode=4.59, count=4)\n",
      "Median:  4.63\n",
      "Range:  0.29\n"
     ]
    },
    {
     "data": {
      "text/plain": [
       "rating    None\n",
       "dtype: object"
      ]
     },
     "execution_count": 8,
     "metadata": {},
     "output_type": "execute_result"
    }
   ],
   "source": [
    "#Create a function that returns the mean, sum, mode, median, and range\n",
    "\n",
    "import numpy as np\n",
    "from scipy import stats\n",
    "\n",
    "def apply_function(col):\n",
    "    print(\"Mean: \", round(np.mean(col),2))  #Display the mean rounded to 2 decimals\n",
    "    print(\"Sum: \", round(np.sum(col),2))    #Display the sum rounded to 2 decimals\n",
    "    print(\"Mode: \", stats.mode(col, keepdims = False))        #Display the mode\n",
    "    print(\"Median: \", round(np.median(col),2))  #Display the median rounded to 2 decimals\n",
    "    print(\"Range: \", round(np.max(col) - np.min(col),2))  #Display the range rounded to 2 decimals\n",
    "df2[['rating']].apply(apply_function,axis=0)  #passes the rating column to the apply_function to "
   ]
  }
 ],
 "metadata": {
  "kernelspec": {
   "display_name": "Python 3 (ipykernel)",
   "language": "python",
   "name": "python3"
  },
  "language_info": {
   "codemirror_mode": {
    "name": "ipython",
    "version": 3
   },
   "file_extension": ".py",
   "mimetype": "text/x-python",
   "name": "python",
   "nbconvert_exporter": "python",
   "pygments_lexer": "ipython3",
   "version": "3.9.13"
  }
 },
 "nbformat": 4,
 "nbformat_minor": 5
}
