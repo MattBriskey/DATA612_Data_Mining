{
 "cells": [
  {
   "cell_type": "markdown",
   "id": "ee640e5b",
   "metadata": {},
   "source": [
    "# Assignment 01 - Python Basics\n",
    "## Name: Matt Briskey\n",
    "## Goal: write a function that sums the range between two numbers "
   ]
  },
  {
   "cell_type": "markdown",
   "id": "19a60059",
   "metadata": {},
   "source": [
    "# While Loop"
   ]
  },
  {
   "cell_type": "code",
   "execution_count": null,
   "id": "9797354d",
   "metadata": {},
   "outputs": [],
   "source": [
    "# While Loop\n",
    "\n",
    "input1 = input(\"Enter the first number:\") #Prompts the user to enter a first number\n",
    "input2 = input(\"Enter the second number: \") #Prompts the user to enter a second number\n",
    "    \n",
    "num1 = int(input1) #Converts the strings to integers\n",
    "num2 = int(input2) #Converts the strings to integers\n",
    "\n",
    "def total(num1, num2):\n",
    "    \n",
    "    total = 0 #Sets total to 0 as a starting point\n",
    "    \n",
    "    while num1 <= num2:\n",
    "        total = total + num1 #Running total\n",
    "        num1 = num1 + 1 #Increment by 1 until the end\n",
    "    print(\"The total of the numbers in between is \" + str(total)) #Returns the total\n",
    "    \n",
    "total(num1, num2)"
   ]
  },
  {
   "cell_type": "markdown",
   "id": "c23940bc",
   "metadata": {},
   "source": [
    "# For Loop"
   ]
  },
  {
   "cell_type": "code",
   "execution_count": null,
   "id": "54b1148a",
   "metadata": {},
   "outputs": [],
   "source": [
    "# For Loop\n",
    "\n",
    "input1 = input(\"Enter the first number:\") #Prompts the user to enter a first number\n",
    "input2 = input(\"Enter the second number: \") #Prompts the user to enter a second number\n",
    "    \n",
    "num1 = int(input1) #Converts the strings to integers\n",
    "num2 = int(input2) #Converts the strings to integers\n",
    "\n",
    "def total(num1, num2):\n",
    "    \n",
    "    total = 0 #Sets total to 0 as a starting point\n",
    "    \n",
    "    r = range(num1, num2+1)\n",
    "    \n",
    "    for num in r:\n",
    "        total = total + num #Running total\n",
    "        num = num + 1 #Increment by 1 until the end\n",
    "    print(\"The total of the numbers in between is \" + str(total)) #Returns the total\n",
    "    \n",
    "total(num1, num2)"
   ]
  }
 ],
 "metadata": {
  "kernelspec": {
   "display_name": "Python 3 (ipykernel)",
   "language": "python",
   "name": "python3"
  },
  "language_info": {
   "codemirror_mode": {
    "name": "ipython",
    "version": 3
   },
   "file_extension": ".py",
   "mimetype": "text/x-python",
   "name": "python",
   "nbconvert_exporter": "python",
   "pygments_lexer": "ipython3",
   "version": "3.9.13"
  }
 },
 "nbformat": 4,
 "nbformat_minor": 5
}
